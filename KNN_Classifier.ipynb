{
 "cells": [
  {
   "cell_type": "code",
   "execution_count": 38,
   "metadata": {},
   "outputs": [],
   "source": [
    "# import the necessary packages\n",
    "from sklearn.neighbors import KNeighborsClassifier\n",
    "from sklearn.model_selection import train_test_split\n",
    "#from imutils import paths\n",
    "import pandas as pd\n",
    "import numpy as np\n",
    "import argparse\n",
    "#import imutils\n",
    "import cv2\n",
    "import os\n",
    "import glob"
   ]
  },
  {
   "cell_type": "code",
   "execution_count": 31,
   "metadata": {},
   "outputs": [],
   "source": [
    "def image_to_feature_vector(image, size=(200, 200)):\n",
    "    # resize the image to a fixed size, then flatten the image into\n",
    "    # a list of raw pixel intensities\n",
    "    return cv2.resize(image, size).flatten()"
   ]
  },
  {
   "cell_type": "code",
   "execution_count": 34,
   "metadata": {},
   "outputs": [],
   "source": [
    "def extract_color_histogram(image, bins=(8, 8, 8)):\n",
    "    # extract a 3D color histogram from the HSV color space using\n",
    "    # the supplied number of `bins` per channel\n",
    "    hsv = cv2.cvtColor(image, cv2.COLOR_BGR2HSV)\n",
    "    hist = cv2.calcHist([hsv], [0, 1, 2], None, bins,\n",
    "        [0, 180, 0, 256, 0, 256])\n",
    " \n",
    "    hist = cv2.normalize(hist, hist)\n",
    "\n",
    "    return hist.flatten()"
   ]
  },
  {
   "cell_type": "code",
   "execution_count": 75,
   "metadata": {},
   "outputs": [],
   "source": [
    "def list_images(paths):\n",
    "    out = []\n",
    "    for p in paths: \n",
    "        out.extend(glob.glob(p+'*.png'))\n",
    "    return out\n"
   ]
  },
  {
   "cell_type": "code",
   "execution_count": 76,
   "metadata": {},
   "outputs": [],
   "source": [
    "def getFeatures(imagePaths):\n",
    "    # initialize the raw pixel intensities matrix, the features matrix,\n",
    "    # and labels list\n",
    "    rawImages = []\n",
    "    features = []\n",
    "    labels = []\n",
    "    \n",
    "    # grab the list of images that we'll be describing\n",
    "    print(\"[INFO] describing images...\")\n",
    "\n",
    "    # loop over the input images\n",
    "    for (i, imagePath) in enumerate(imagePaths):\n",
    "        # load the image and extract the class label (assuming that our\n",
    "        # path as the format: /path/to/dataset/{class}_id-num.jpg\n",
    "        image = cv2.imread(imagePath)\n",
    "        label = imagePath.split('/')[-1].split(\"_\")[0]\n",
    "\n",
    "        # extract raw pixel intensity \"features\", followed by a color\n",
    "        # histogram to characterize the color distribution of the pixels\n",
    "        # in the image\n",
    "        pixels = image_to_feature_vector(image)\n",
    "        hist = extract_color_histogram(image)\n",
    "\n",
    "        # update the raw images, features, and labels matricies,\n",
    "        # respectively\n",
    "        rawImages.append(pixels)\n",
    "        features.append(hist)\n",
    "        labels.append(label)\n",
    "\n",
    "        # show an update every 1,000 images\n",
    "        if i > 0 and i % 1000 == 0:\n",
    "            print(\"[INFO] processed {}/{}\".format(i, len(imagePaths)))\n",
    "    print(\"Done getting features and labels\")\n",
    "    \n",
    "    rawImages = np.array(rawImages)\n",
    "    features = np.array(features)\n",
    "    labels = np.array(labels)\n",
    "    return rawImages, features, labels"
   ]
  },
  {
   "cell_type": "code",
   "execution_count": 47,
   "metadata": {},
   "outputs": [
    {
     "name": "stdout",
     "output_type": "stream",
     "text": [
      "[INFO] describing images...\n",
      "[INFO] processed 1000/1521\n",
      "[INFO] pixels matrix: 178.24MB\n",
      "[INFO] features matrix: 3.04MB\n",
      "[INFO]: unique labels found:  {'Tear', 'None'}\n"
     ]
    }
   ],
   "source": [
    "tear_set = 'train_images/tear/'\n",
    "none_set = 'train_images/none/'\n",
    "dataset = (tear_set, none_set)\n",
    "\n",
    "#Tune KNN Classifier parameters\n",
    "k = 1\n",
    "#number of cores to use (j=-1 to use all available)\n",
    "j = 2\n",
    "\n",
    "#imagePaths = list_images(args[\"dataset\"])\n",
    "imagePaths = list_images(dataset)\n",
    "rawImages, features, labels = getFeatures(imagePaths)\n",
    "        \n",
    "# show some information on the memory consumed by the raw images\n",
    "# matrix and features matrix\n",
    "ulabels = set(labels)\n",
    "\n",
    "print(\"[INFO] pixels matrix: {:.2f}MB\".format(\n",
    "    rawImages.nbytes / (1024 * 1000.0)))\n",
    "print(\"[INFO] features matrix: {:.2f}MB\".format(\n",
    "    features.nbytes / (1024 * 1000.0)))\n",
    "print(\"[INFO]: unique labels found: \", str(ulabels))"
   ]
  },
  {
   "cell_type": "code",
   "execution_count": 45,
   "metadata": {},
   "outputs": [
    {
     "name": "stdout",
     "output_type": "stream",
     "text": [
      "[INFO] evaluating raw pixel accuracy...\n",
      "[INFO] raw pixel accuracy: 100.00%\n"
     ]
    }
   ],
   "source": [
    "# partition the data into training and testing splits, using 75%\n",
    "# of the data for training and the remaining 25% for testing\n",
    "(trainRI, testRI, trainRL, testRL) = train_test_split(\n",
    "    rawImages, labels, test_size=0.25, random_state=42)\n",
    "(trainFeat, testFeat, trainLabels, testLabels) = train_test_split(\n",
    "    features, labels, test_size=0.25, random_state=42)\n",
    "\n",
    "\n",
    "# train and evaluate a k-NN classifer on the raw pixel intensities\n",
    "print(\"[INFO] evaluating raw pixel accuracy...\")\n",
    "model = KNeighborsClassifier(n_neighbors=k,\n",
    "    n_jobs=j)\n",
    "model.fit(trainRI, trainRL)\n",
    "\n",
    "acc = model.score(testRI, testRL)\n",
    "print(\"[INFO] raw pixel accuracy: {:.2f}%\".format(acc * 100))"
   ]
  },
  {
   "cell_type": "code",
   "execution_count": 37,
   "metadata": {},
   "outputs": [
    {
     "name": "stdout",
     "output_type": "stream",
     "text": [
      "[INFO] evaluating histogram accuracy...\n",
      "[INFO] histogram accuracy: 100.00%\n"
     ]
    }
   ],
   "source": [
    "print(\"[INFO] evaluating histogram accuracy...\")\n",
    "model = KNeighborsClassifier(n_neighbors=k,\n",
    "    n_jobs=j)\n",
    "model.fit(trainFeat, trainLabels)\n",
    "acc = model.score(testFeat, testLabels)\n",
    "print(\"[INFO] histogram accuracy: {:.2f}%\".format(acc * 100))"
   ]
  },
  {
   "cell_type": "code",
   "execution_count": 77,
   "metadata": {},
   "outputs": [
    {
     "name": "stdout",
     "output_type": "stream",
     "text": [
      "[INFO] describing images...\n",
      "Done getting features and labels\n"
     ]
    },
    {
     "data": {
      "text/plain": [
       "(168, 120000)"
      ]
     },
     "execution_count": 77,
     "metadata": {},
     "output_type": "execute_result"
    }
   ],
   "source": [
    "valset_tear = 'validation_images/tear/'\n",
    "valset_none = 'validation_images/none/'\n",
    "imagePaths = list_images((valset_tear, valset_none))\n",
    "rawTestImgs, testFeatures, testLabels = getFeatures(imagePaths)\n",
    "\n",
    "rawTestImgs.shape"
   ]
  },
  {
   "cell_type": "code",
   "execution_count": null,
   "metadata": {
    "scrolled": false
   },
   "outputs": [],
   "source": [
    "evalModel = KNeighborsClassifier(n_neighbors=k, n_jobs=j)\n",
    "evalModel.fit(features, labels)\n",
    "#testFeatures.size\n",
    "#acc = model.score(testFeatures, testLabels)\n",
    "#print(\"[INFO] histogram accuracy: {:.2f}%\".format(acc * 100))"
   ]
  },
  {
   "cell_type": "code",
   "execution_count": 82,
   "metadata": {},
   "outputs": [
    {
     "name": "stdout",
     "output_type": "stream",
     "text": [
      "1.0\n"
     ]
    }
   ],
   "source": [
    "acc = evalModel.score(testFeatures, testLabels)\n",
    "print(acc)"
   ]
  }
 ],
 "metadata": {
  "kernelspec": {
   "display_name": "Python 3",
   "language": "python",
   "name": "python3"
  },
  "language_info": {
   "codemirror_mode": {
    "name": "ipython",
    "version": 3
   },
   "file_extension": ".py",
   "mimetype": "text/x-python",
   "name": "python",
   "nbconvert_exporter": "python",
   "pygments_lexer": "ipython3",
   "version": "3.7.1"
  }
 },
 "nbformat": 4,
 "nbformat_minor": 2
}
