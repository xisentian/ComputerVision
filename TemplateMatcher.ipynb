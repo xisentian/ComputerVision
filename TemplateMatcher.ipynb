{
 "cells": [
  {
   "cell_type": "markdown",
   "metadata": {},
   "source": [
    "# Template Matching"
   ]
  },
  {
   "cell_type": "code",
   "execution_count": 12,
   "metadata": {},
   "outputs": [
    {
     "name": "stdout",
     "output_type": "stream",
     "text": [
      "Populating the interactive namespace from numpy and matplotlib\n"
     ]
    }
   ],
   "source": [
    "#One time imports\n",
    "import cv2\n",
    "import numpy as np\n",
    "\n",
    "from IPython.display import clear_output\n",
    "%pylab inline \n",
    "pylab.rcParams['figure.figsize'] = (16.0, 12.0)\n",
    "\n",
    "import matplotlib.pyplot as plt"
   ]
  },
  {
   "cell_type": "markdown",
   "metadata": {},
   "source": [
    "## Template Matching Algorithm"
   ]
  },
  {
   "cell_type": "code",
   "execution_count": 22,
   "metadata": {},
   "outputs": [],
   "source": [
    "# Put the code in try-except statements\n",
    "# Catch the keyboard exception and \n",
    "# release the camera device and \n",
    "# continue with the rest of code.\n",
    "def findIt(templatePath, videoPath, threshold = 0.7):\n",
    "    vid = cv2.VideoCapture(videoPath)\n",
    "    template = cv2.imread(templatePath, cv2.IMREAD_GRAYSCALE)\n",
    "    w, h = template.shape[::-1]\n",
    "    try:\n",
    "        while True:\n",
    "            # Capture frame-by-frame\n",
    "            ret, frame = vid.read()     \n",
    "            if not ret:\n",
    "                # Release the Video Device if ret is false\n",
    "                vid.release()\n",
    "                # Message to be displayed after releasing the device\n",
    "                print(\"Released Video Resource\")\n",
    "                break\n",
    "            #Match on a gray version of the frame\n",
    "            gray_frame = cv2.cvtColor(frame, cv2.COLOR_BGR2GRAY)\n",
    "            res = cv2.matchTemplate(gray_frame, template, cv2.TM_CCOEFF_NORMED)\n",
    "            #Find where the match is based on a threshold \n",
    "            loc = np.where(res >= threshold)\n",
    "            #Draw a box around the matched point(s)\n",
    "            no_matches = 0\n",
    "            for pt in zip(*loc[::-1]):\n",
    "                no_matches += 1\n",
    "                cv2.rectangle(frame, pt, (pt[0] + w, pt[1] + h), (0, 255, 0), 3)\n",
    "            # Display the frame\n",
    "            frame = cv2.cvtColor(frame, cv2.COLOR_BGR2RGB)\n",
    "            title('Using Threshold = ' + str(threshold) + ': ' \n",
    "                    + str(no_matches) + ' matches')\n",
    "            imshow(frame)\n",
    "            #key = cv2.waitKey(1)\n",
    "            show()\n",
    "            # Display the frame until new frame is available\n",
    "            clear_output(wait=True)\n",
    "    except KeyboardInterrupt:\n",
    "        # Release the Video Device\n",
    "        vid.release()\n",
    "        # Message to be displayed after releasing the device\n",
    "        cv2.destroyAllWindows()\n",
    "        print(\"Released Video Resource\")"
   ]
  },
  {
   "cell_type": "markdown",
   "metadata": {},
   "source": [
    "### Test: Trivial Case (Template is Exact Cropping of Target in Video)"
   ]
  },
  {
   "cell_type": "code",
   "execution_count": 24,
   "metadata": {},
   "outputs": [
    {
     "name": "stdout",
     "output_type": "stream",
     "text": [
      "Released Video Resource\n"
     ]
    }
   ],
   "source": [
    "tPath = \"train_images/tear/Tear_pure.png\"\n",
    "vidPath = \"Videos/Data/Tear/Tear_Kha.mp4\"\n",
    "findIt(tPath, vidPath, threshold=.9)"
   ]
  },
  {
   "cell_type": "markdown",
   "metadata": {},
   "source": [
    "### Test: Itermediate Case (Target Orientation Changes)"
   ]
  },
  {
   "cell_type": "code",
   "execution_count": 25,
   "metadata": {},
   "outputs": [
    {
     "name": "stdout",
     "output_type": "stream",
     "text": [
      "Released Video Resource\n"
     ]
    }
   ],
   "source": [
    "tPath = \"train_images/tear/Tear_pure.png\"\n",
    "vidPath = \"Videos/Data/Tear/Tear_Braum.mp4\"\n",
    "findIt(tPath, vidPath, threshold = 0.9)"
   ]
  },
  {
   "cell_type": "code",
   "execution_count": null,
   "metadata": {},
   "outputs": [],
   "source": []
  }
 ],
 "metadata": {
  "kernelspec": {
   "display_name": "Python 3",
   "language": "python",
   "name": "python3"
  },
  "language_info": {
   "codemirror_mode": {
    "name": "ipython",
    "version": 3
   },
   "file_extension": ".py",
   "mimetype": "text/x-python",
   "name": "python",
   "nbconvert_exporter": "python",
   "pygments_lexer": "ipython3",
   "version": "3.7.1"
  }
 },
 "nbformat": 4,
 "nbformat_minor": 2
}
