{
 "cells": [
  {
   "cell_type": "markdown",
   "metadata": {},
   "source": [
    "# Template Matching"
   ]
  },
  {
   "cell_type": "code",
   "execution_count": 12,
   "metadata": {},
   "outputs": [
    {
     "name": "stdout",
     "output_type": "stream",
     "text": [
      "Populating the interactive namespace from numpy and matplotlib\n"
     ]
    }
   ],
   "source": [
    "#One time imports\n",
    "import cv2\n",
    "import numpy as np\n",
    "\n",
    "from IPython.display import clear_output\n",
    "%pylab inline \n",
    "pylab.rcParams['figure.figsize'] = (16.0, 12.0)\n",
    "\n",
    "import matplotlib.pyplot as plt"
   ]
  },
  {
   "cell_type": "markdown",
   "metadata": {},
   "source": [
    "## Template Matching Algorithm"
   ]
  },
  {
   "cell_type": "code",
   "execution_count": 103,
   "metadata": {},
   "outputs": [
    {
     "name": "stdout",
     "output_type": "stream",
     "text": [
      "Bow train_images/bow/Bow_pure.png\n",
      "Tear train_images/tear/Tear_pure.png\n",
      "Belt train_images/belt/Belt_pure.png\n",
      "Cloak train_images/Cloak/Cloak_pure.png\n"
     ]
    }
   ],
   "source": [
    "#Fetches templates and returns them in a dict\n",
    "def getTemplates():\n",
    "    #TODO: Automate this to traverse a template directory\n",
    "    tearPath = \"train_images/tear/Tear_pure.png\"\n",
    "    bowPath  = \"train_images/bow/Bow_pure.png\"\n",
    "    beltPath = \"train_images/belt/Belt_pure.png\"\n",
    "    cloakPath = \"train_images/Cloak/Cloak_pure.png\"\n",
    "    templatePathes = [bowPath, tearPath, beltPath, cloakPath]\n",
    "    threshold = 0.8\n",
    "\n",
    "    #Create a dict of arrays to store item with path and pixel values\n",
    "    templates = dict()\n",
    "    for path in templatePathes: \n",
    "        itemName = path.split('/')[-1].split('.')[0].split('_')[0]\n",
    "        item = cv2.imread(path, cv2.IMREAD_GRAYSCALE)\n",
    "        templates[itemName] = [path, item]\n",
    "    return templates\n",
    "templates = getTemplates()\n",
    "#print(templates)\n",
    "for k, v in templates.items(): \n",
    "    print(k, v[0])"
   ]
  },
  {
   "cell_type": "code",
   "execution_count": 123,
   "metadata": {},
   "outputs": [],
   "source": [
    "#Is the template in the frame?\n",
    "#def inFrame(template, frame, threshold): \n",
    "frame = cv2.imread(\"screenshots/belt/Tear_cloak_spat_belt_rod-4.png\")\n",
    "#gray_frame = cv2.cvtColor(frame, cv2.COLOR_BGR2GRAY)\n",
    "#template = templates['Tear'][1]\n",
    "\n",
    "\n",
    "def inFrame(template, frame, threshold = 0.8):\n",
    "    result = cv2.matchTemplate(gray_frame, template, cv2.TM_CCOEFF_NORMED)\n",
    "    loc = np.where(result >= threshold)\n",
    "    #if the first element is empty, the obj hasn't been found\n",
    "    return any(loc[0])\n",
    "\n",
    "#return the number of items in the frame\n",
    "def countInFrame(template, frame, threshold = 0.8): \n",
    "    result = cv2.matchTemplate(gray_frame, template, cv2.TM_CCOEFF_NORMED)\n",
    "    loc = np.where(result >= threshold)\n",
    "    if (any(loc[0])): \n",
    "        return len(loc)//2\n",
    "    return 0\n",
    "    \n",
    "itemsInFrame = countInFrame(templates['Bow'][1], frame, threshold=0.8)\n",
    "\n",
    "for i in range(0, itemsInFrame):\n",
    "    print(i)"
   ]
  },
  {
   "cell_type": "code",
   "execution_count": 124,
   "metadata": {},
   "outputs": [
    {
     "name": "stdout",
     "output_type": "stream",
     "text": [
      "Released Video Resource\n"
     ]
    }
   ],
   "source": [
    "videoPath = \"Videos/Data/Tear/Tear_cloak_spat_belt_rod.mp4\"\n",
    "vid = cv2.VideoCapture(videoPath)\n",
    "threshold = 0.8\n",
    "frame_no = 0 \n",
    "try:\n",
    "    while True:\n",
    "        # Capture frame-by-frame\n",
    "        ret, frame = vid.read()     \n",
    "        if not ret:\n",
    "            # Release the Video Device if ret is false\n",
    "            vid.release()\n",
    "            # Message to be displayed after releasing the device\n",
    "            print(\"Released Video Resource\")\n",
    "            break\n",
    "        #Match on a gray version of the frame\n",
    "        gray_frame = cv2.cvtColor(frame, cv2.COLOR_BGR2GRAY)\n",
    "        \n",
    "        found_items = []\n",
    "        for name, val in templates.items(): \n",
    "            item = val[1]\n",
    "            #check if item is in frame\n",
    "            itemsInFrame = countInFrame(item, frame, threshold)\n",
    "            for i in range(0, itemsInFrame):\n",
    "                found_items.append(name)\n",
    "        print(\"In frame \" + str(frame_no) + \", found \" + str(found_items))\n",
    "        \n",
    "        clear_output(wait=True)\n",
    "        frame_no += 1\n",
    "except KeyboardInterrupt:\n",
    "    # Release the Video Device\n",
    "    vid.release()\n",
    "    # Message to be displayed after releasing the device\n",
    "    cv2.destroyAllWindows()\n",
    "    print(\"Released Video Resource\")"
   ]
  },
  {
   "cell_type": "code",
   "execution_count": 22,
   "metadata": {},
   "outputs": [],
   "source": [
    "# Put the code in try-except statements\n",
    "# Catch the keyboard exception and \n",
    "# release the camera device and \n",
    "# continue with the rest of code.\n",
    "def findIt(templatePath, videoPath, threshold = 0.7):\n",
    "    vid = cv2.VideoCapture(videoPath)\n",
    "    template = cv2.imread(templatePath, cv2.IMREAD_GRAYSCALE)\n",
    "    w, h = template.shape[::-1]\n",
    "    try:\n",
    "        while True:\n",
    "            # Capture frame-by-frame\n",
    "            ret, frame = vid.read()     \n",
    "            if not ret:\n",
    "                # Release the Video Device if ret is false\n",
    "                vid.release()\n",
    "                # Message to be displayed after releasing the device\n",
    "                print(\"Released Video Resource\")\n",
    "                break\n",
    "            #Match on a gray version of the frame\n",
    "            gray_frame = cv2.cvtColor(frame, cv2.COLOR_BGR2GRAY)\n",
    "            res = cv2.matchTemplate(gray_frame, template, cv2.TM_CCOEFF_NORMED)\n",
    "            #Find where the match is based on a threshold \n",
    "            loc = np.where(res >= threshold)\n",
    "            #Draw a box around the matched point(s)\n",
    "            no_matches = 0\n",
    "            for pt in zip(*loc[::-1]):\n",
    "                no_matches += 1\n",
    "                cv2.rectangle(frame, pt, (pt[0] + w, pt[1] + h), (0, 255, 0), 3)\n",
    "            # Display the frame\n",
    "            frame = cv2.cvtColor(frame, cv2.COLOR_BGR2RGB)\n",
    "            title('Using Threshold = ' + str(threshold) + ': ' \n",
    "                    + str(no_matches) + ' matches')\n",
    "            imshow(frame)\n",
    "            #key = cv2.waitKey(1)\n",
    "            show()\n",
    "            # Display the frame until new frame is available\n",
    "            clear_output(wait=True)\n",
    "    except KeyboardInterrupt:\n",
    "        # Release the Video Device\n",
    "        vid.release()\n",
    "        # Message to be displayed after releasing the device\n",
    "        cv2.destroyAllWindows()\n",
    "        print(\"Released Video Resource\")"
   ]
  },
  {
   "cell_type": "markdown",
   "metadata": {},
   "source": [
    "### Test: Trivial Case (Template is Exact Cropping of Target in Video)"
   ]
  },
  {
   "cell_type": "code",
   "execution_count": 43,
   "metadata": {},
   "outputs": [
    {
     "name": "stdout",
     "output_type": "stream",
     "text": [
      "Released Video Resource\n"
     ]
    }
   ],
   "source": [
    "tPath = \"train_images/tear/Tear_pure.png\"\n",
    "vidPath = \"Videos/Data/Tear/Tear_Kha.mp4\"\n",
    "findIt(tPath, vidPath, threshold=.9)"
   ]
  },
  {
   "cell_type": "markdown",
   "metadata": {},
   "source": [
    "### Test: Itermediate Case (Target Orientation Changes)"
   ]
  },
  {
   "cell_type": "code",
   "execution_count": 25,
   "metadata": {},
   "outputs": [
    {
     "name": "stdout",
     "output_type": "stream",
     "text": [
      "Released Video Resource\n"
     ]
    }
   ],
   "source": [
    "tPath = \"train_images/tear/Tear_pure.png\"\n",
    "vidPath = \"Videos/Data/Tear/Tear_Braum.mp4\"\n",
    "findIt(tPath, vidPath, threshold = 0.9)"
   ]
  },
  {
   "cell_type": "code",
   "execution_count": 87,
   "metadata": {},
   "outputs": [
    {
     "name": "stdout",
     "output_type": "stream",
     "text": [
      "Released Video Resource\n"
     ]
    }
   ],
   "source": [
    "tPath = \"train_images/bow/Bow_pure.png\"\n",
    "vidPath = \"Videos/Data/Tear/Tear_Kha.mp4\"\n",
    "findIt(tPath, vidPath, threshold=.9)"
   ]
  }
 ],
 "metadata": {
  "kernelspec": {
   "display_name": "Python 3",
   "language": "python",
   "name": "python3"
  },
  "language_info": {
   "codemirror_mode": {
    "name": "ipython",
    "version": 3
   },
   "file_extension": ".py",
   "mimetype": "text/x-python",
   "name": "python",
   "nbconvert_exporter": "python",
   "pygments_lexer": "ipython3",
   "version": "3.7.1"
  }
 },
 "nbformat": 4,
 "nbformat_minor": 2
}
